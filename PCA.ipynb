{
  "nbformat": 4,
  "nbformat_minor": 0,
  "metadata": {
    "colab": {
      "name": "PCA.ipynb",
      "provenance": [],
      "collapsed_sections": [],
      "authorship_tag": "ABX9TyP2gICx71MB4FrECJffDnAF",
      "include_colab_link": true
    },
    "kernelspec": {
      "name": "python3",
      "display_name": "Python 3"
    }
  },
  "cells": [
    {
      "cell_type": "markdown",
      "metadata": {
        "id": "view-in-github",
        "colab_type": "text"
      },
      "source": [
        "<a href=\"https://colab.research.google.com/github/rposhala/Principal-Component-Analysis-using-Python/blob/master/PCA.ipynb\" target=\"_parent\"><img src=\"https://colab.research.google.com/assets/colab-badge.svg\" alt=\"Open In Colab\"/></a>"
      ]
    },
    {
      "cell_type": "code",
      "metadata": {
        "id": "1gVY4ktIPU4_",
        "colab_type": "code",
        "colab": {}
      },
      "source": [
        "#loading libraries\n",
        "import numpy as np\n",
        "import pandas as pd"
      ],
      "execution_count": 0,
      "outputs": []
    },
    {
      "cell_type": "markdown",
      "metadata": {
        "id": "LxMvMDqEdZn0",
        "colab_type": "text"
      },
      "source": [
        "Principal Component Analysis algorithm for dimension reduction"
      ]
    },
    {
      "cell_type": "code",
      "metadata": {
        "id": "UMnydObu5dxg",
        "colab_type": "code",
        "colab": {}
      },
      "source": [
        "def PCAA(df,N):\n",
        "  features = df.shape[1]\n",
        "  df = df - df.mean(axis=0)\n",
        "  cv_matrix = np.cov(df,rowvar=False)\n",
        "  eigval,eigvec = np.linalg.eig(cv_matrix)\n",
        "  reduced_dataset = np.matmul(df,np.delete(eigvec,np.argsort(eigval)[:features-N],axis = 1))\n",
        "  return reduced_dataset"
      ],
      "execution_count": 0,
      "outputs": []
    },
    {
      "cell_type": "markdown",
      "metadata": {
        "id": "_YV_R4GGeFwx",
        "colab_type": "text"
      },
      "source": [
        "Loading a sample data set to test the PCA algorithm"
      ]
    },
    {
      "cell_type": "code",
      "metadata": {
        "id": "-Us5Cbv7PjKq",
        "colab_type": "code",
        "colab": {}
      },
      "source": [
        "# loading the data.csv file with our column names\n",
        "\n",
        "data = pd.read_csv(\"data.csv\", header = None , skiprows = 1)\n",
        "dataframe = pd.DataFrame()\n",
        "dataframe = pd.DataFrame(data)\n",
        "df = np.asarray(dataframe)"
      ],
      "execution_count": 0,
      "outputs": []
    },
    {
      "cell_type": "markdown",
      "metadata": {
        "id": "jegVXd3JeLka",
        "colab_type": "text"
      },
      "source": [
        "implementing PCA on a dataset and checking the first two sample of reduced dataset"
      ]
    },
    {
      "cell_type": "code",
      "metadata": {
        "id": "XppMkAfhzVmD",
        "colab_type": "code",
        "outputId": "c062ad6e-3d88-481b-abd1-10e3f832bb58",
        "colab": {
          "base_uri": "https://localhost:8080/",
          "height": 51
        }
      },
      "source": [
        "tn_pred = PCAA(df,5)\n",
        "tn_pred[:2,:]"
      ],
      "execution_count": 0,
      "outputs": [
        {
          "output_type": "execute_result",
          "data": {
            "text/plain": [
              "array([[-7.58465437,  0.26079567,  0.24801261, -0.62004918, -5.726554  ],\n",
              "       [-8.7533318 , -0.05117531,  0.12007766,  4.04209553, -2.29942656]])"
            ]
          },
          "metadata": {
            "tags": []
          },
          "execution_count": 39
        }
      ]
    },
    {
      "cell_type": "markdown",
      "metadata": {
        "id": "slptq9NbefTn",
        "colab_type": "text"
      },
      "source": [
        "Checking the variances captured at different level of principal component inclusion"
      ]
    },
    {
      "cell_type": "code",
      "metadata": {
        "id": "NMnFgrKf8Gzl",
        "colab_type": "code",
        "outputId": "2a12beb4-0990-4698-8db6-06616f1da230",
        "colab": {
          "base_uri": "https://localhost:8080/",
          "height": 850
        }
      },
      "source": [
        "## we can check the variance captured at different level of principal component inclusion\n",
        "for i in range(49):\n",
        "  tn_pred = PCAA(df,i)\n",
        "  # np.var(tn_pred,axis=0)\n",
        "  print(np.sum(np.var(tn_pred,axis=0))/np.sum(np.var(df,axis=0)))"
      ],
      "execution_count": 0,
      "outputs": [
        {
          "output_type": "stream",
          "text": [
            "0.0\n",
            "0.38851552435529374\n",
            "0.61747975135955\n",
            "0.7466745505900461\n",
            "0.8375156896557148\n",
            "0.9107084796004811\n",
            "0.9715637696801569\n",
            "0.9924005019446108\n",
            "0.9943767061818128\n",
            "0.9959724606267621\n",
            "0.9974913198847445\n",
            "0.9987501344087916\n",
            "0.9999142881195372\n",
            "0.9999511903389898\n",
            "0.9999803451052298\n",
            "0.999996735417726\n",
            "0.9999990187486207\n",
            "0.9999995860927057\n",
            "0.9999998121475623\n",
            "0.9999999229904082\n",
            "0.9999999634095859\n",
            "0.9999999875750003\n",
            "0.9999999958944789\n",
            "0.9999999983648182\n",
            "0.999999999095869\n",
            "0.9999999992227251\n",
            "0.9999999993419836\n",
            "0.9999999994534176\n",
            "0.9999999995521299\n",
            "0.999999999647821\n",
            "0.999999999739659\n",
            "0.9999999998104696\n",
            "0.9999999998584728\n",
            "0.999999999901661\n",
            "0.9999999999427948\n",
            "0.999999999970112\n",
            "0.999999999976204\n",
            "0.9999999999816965\n",
            "0.9999999999864411\n",
            "0.9999999999910364\n",
            "0.9999999999948743\n",
            "0.9999999999970611\n",
            "0.9999999999990343\n",
            "0.9999999999995492\n",
            "0.9999999999998198\n",
            "0.9999999999999908\n",
            "0.9999999999999928\n",
            "0.9999999999999941\n",
            "0.9999999999999949\n"
          ],
          "name": "stdout"
        }
      ]
    },
    {
      "cell_type": "markdown",
      "metadata": {
        "id": "DwTunHuNeskF",
        "colab_type": "text"
      },
      "source": [
        "*********** The end ***\n",
        "\n",
        "..\n",
        "\n",
        ".."
      ]
    },
    {
      "cell_type": "markdown",
      "metadata": {
        "id": "aYWH8SXPfbSt",
        "colab_type": "text"
      },
      "source": [
        "Rough Work generated while created an optimal code for PCA algorithm implementation"
      ]
    },
    {
      "cell_type": "code",
      "metadata": {
        "id": "sLo7u1nbYk9l",
        "colab_type": "code",
        "colab": {}
      },
      "source": [
        "def PCAASVD(df,N):\n",
        "  f = df.shape[1]\n",
        "  # cv_matrix = np.cov(df,rowvar=False)\n",
        "  u, s, v = np.linalg.svd(df, full_matrices=False,compute_uv=True)\n",
        "  print(df.shape,u.shape,s.shape,v.shape)\n",
        "  # red = np.zeros((features,features))\n",
        "  # for i in range(N):\n",
        "  # smat = np.zeros((f, f))\n",
        "  # smat[:f, :f] \n",
        "  ld= np.diag(s)\n",
        "  print(ld.shape)\n",
        "  # a = np.matmul(u[:,:i],smat[:i,:i])\n",
        "  a = np.matmul(u,ld)\n",
        "  # print(a.shape)\n",
        "  reduced_dataset = np.matmul(a,v)#[:i,:i])\n",
        "  # reduced_dataset = np.matmul(df,red)\n",
        "  return reduced_dataset"
      ],
      "execution_count": 0,
      "outputs": []
    },
    {
      "cell_type": "code",
      "metadata": {
        "id": "8Bdu2jyJmagi",
        "colab_type": "code",
        "outputId": "cdce2405-7833-442c-beb8-5463bf049105",
        "colab": {
          "base_uri": "https://localhost:8080/",
          "height": 493
        }
      },
      "source": [
        "b = PCAASVD(df,4)\n",
        "b,df"
      ],
      "execution_count": 0,
      "outputs": [
        {
          "output_type": "stream",
          "text": [
            "(40956, 49) (40956, 49) (49,) (49, 49)\n",
            "(49, 49)\n"
          ],
          "name": "stdout"
        },
        {
          "output_type": "execute_result",
          "data": {
            "text/plain": [
              "(array([[-3.01400000e-06, -4.41380000e-05, -2.77560000e-04, ...,\n",
              "         -1.49850000e+00, -1.49840000e+00,  5.00000000e+00],\n",
              "        [-4.53270000e-06, -2.72070000e-05,  1.15470000e-04, ...,\n",
              "         -1.50480000e+00, -1.50490000e+00,  8.00000000e+00],\n",
              "        [-9.61560000e-07,  1.52919999e-06, -6.37740000e-06, ...,\n",
              "         -1.49750000e+00, -1.49750000e+00,  9.00000000e+00],\n",
              "        ...,\n",
              "        [-5.51160000e-06, -2.43520000e-05, -4.20350000e-04, ...,\n",
              "         -1.49890000e+00, -1.49890000e+00,  8.00000000e+00],\n",
              "        [-3.94340000e-06,  8.59599991e-07, -1.59090000e-05, ...,\n",
              "         -1.49870000e+00, -1.49880000e+00,  1.10000000e+01],\n",
              "        [-6.23450000e-06, -6.60210000e-05,  1.05720000e-04, ...,\n",
              "         -1.49550000e+00, -1.49540000e+00,  9.00000000e+00]]),\n",
              " array([[-3.0140e-06, -4.4138e-05, -2.7756e-04, ..., -1.4985e+00,\n",
              "         -1.4984e+00,  5.0000e+00],\n",
              "        [-4.5327e-06, -2.7207e-05,  1.1547e-04, ..., -1.5048e+00,\n",
              "         -1.5049e+00,  8.0000e+00],\n",
              "        [-9.6156e-07,  1.5292e-06, -6.3774e-06, ..., -1.4975e+00,\n",
              "         -1.4975e+00,  9.0000e+00],\n",
              "        ...,\n",
              "        [-5.5116e-06, -2.4352e-05, -4.2035e-04, ..., -1.4989e+00,\n",
              "         -1.4989e+00,  8.0000e+00],\n",
              "        [-3.9434e-06,  8.5960e-07, -1.5909e-05, ..., -1.4987e+00,\n",
              "         -1.4988e+00,  1.1000e+01],\n",
              "        [-6.2345e-06, -6.6021e-05,  1.0572e-04, ..., -1.4955e+00,\n",
              "         -1.4954e+00,  9.0000e+00]]))"
            ]
          },
          "metadata": {
            "tags": []
          },
          "execution_count": 15
        }
      ]
    },
    {
      "cell_type": "code",
      "metadata": {
        "id": "ZkIp1WVqfrvQ",
        "colab_type": "code",
        "outputId": "c49c1bce-1ba5-4c49-ae6e-1abcbdf4a006",
        "colab": {
          "base_uri": "https://localhost:8080/",
          "height": 68
        }
      },
      "source": [
        "a = PCAA(df,4)\n",
        "b = PCAASVD(df,4)\n",
        "# np.allclose(a,b)\n",
        "a.shape,b.shape"
      ],
      "execution_count": 0,
      "outputs": [
        {
          "output_type": "stream",
          "text": [
            "(40956, 49) (40956, 49) (49,) (49, 49)\n",
            "(49, 49)\n"
          ],
          "name": "stdout"
        },
        {
          "output_type": "execute_result",
          "data": {
            "text/plain": [
              "((40956, 4), (40956, 49))"
            ]
          },
          "metadata": {
            "tags": []
          },
          "execution_count": 16
        }
      ]
    },
    {
      "cell_type": "code",
      "metadata": {
        "id": "NFArghm_74sb",
        "colab_type": "code",
        "outputId": "e6fb00af-6cc0-48e7-eba2-75756799c00d",
        "colab": {
          "base_uri": "https://localhost:8080/",
          "height": 68
        }
      },
      "source": [
        "cv = np.cov(df,rowvar=False)\n",
        "eigval,eigvec = np.linalg.eig(cv)\n",
        "print(df.shape)\n",
        "# tn_pred = np.matmul(dataframe,np.delete(eigvec,np.argsort(eigval)[:48-6],axis = 1))\n",
        "tn_pred = np.matmul(df,np.delete(eigvec,np.argsort(eigval)[:48-8],axis = 1))\n",
        "# tst_pred = np.matmul(x_test_norm,np.delete(eigvec,np.argsort(eigval)[:48-21],axis = 1))\n",
        "print(df.shape,tn_pred.shape)\n",
        "# print(sk_x_train-tn_pred)\n",
        "np.sum(np.var(tn_pred,axis=0))/np.sum(np.var(df,axis=0))"
      ],
      "execution_count": 0,
      "outputs": [
        {
          "output_type": "stream",
          "text": [
            "(40956, 48)\n",
            "(40956, 48) (40956, 8)\n"
          ],
          "name": "stdout"
        },
        {
          "output_type": "execute_result",
          "data": {
            "text/plain": [
              "0.9958773128480441"
            ]
          },
          "metadata": {
            "tags": []
          },
          "execution_count": 70
        }
      ]
    },
    {
      "cell_type": "code",
      "metadata": {
        "id": "03S-QeHqPx1e",
        "colab_type": "code",
        "outputId": "715eab19-b2dc-4b9e-ceb6-28eaec26e927",
        "colab": {
          "base_uri": "https://localhost:8080/",
          "height": 68
        }
      },
      "source": [
        "from sklearn.decomposition import PCA\n",
        "# Make an instance of the Model\n",
        "pca = PCA(0.9107)\n",
        "pca.fit(df)\n",
        "sk_x_train = pca.transform(df)\n",
        "# sk_test_img = pca.transform(x_test_norm)\n",
        "print(sk_x_train.shape)#,sk_test_img.shape)\n",
        "sk_x_train[:2,:]"
      ],
      "execution_count": 0,
      "outputs": [
        {
          "output_type": "stream",
          "text": [
            "(40956, 5)\n"
          ],
          "name": "stdout"
        },
        {
          "output_type": "execute_result",
          "data": {
            "text/plain": [
              "array([[-7.58465437,  0.26079567,  0.24801261,  0.62004918,  5.726554  ],\n",
              "       [-8.7533318 , -0.05117531,  0.12007766, -4.04209553,  2.29942656]])"
            ]
          },
          "metadata": {
            "tags": []
          },
          "execution_count": 37
        }
      ]
    },
    {
      "cell_type": "code",
      "metadata": {
        "id": "TT0HrVC7fh3t",
        "colab_type": "code",
        "colab": {}
      },
      "source": [
        ""
      ],
      "execution_count": 0,
      "outputs": []
    },
    {
      "cell_type": "code",
      "metadata": {
        "id": "lYvLtIe5yyne",
        "colab_type": "code",
        "outputId": "bca25044-6874-4fd8-8aca-298211949c86",
        "colab": {
          "base_uri": "https://localhost:8080/",
          "height": 34
        }
      },
      "source": [
        "8# eigvec[np.argsort(eigval)[48-6:]]\n",
        "# np.sum(eigval[np.argsort(eigval)[48-10:]])/np.sum(eigval)\n",
        "# np.var(tn_pred)/np.var(df)\n",
        "np.sum(np.var(tn_pred,axis=0))/np.sum(np.var(df,axis=0))"
      ],
      "execution_count": 0,
      "outputs": [
        {
          "output_type": "execute_result",
          "data": {
            "text/plain": [
              "0.10208820357662275"
            ]
          },
          "metadata": {
            "tags": []
          },
          "execution_count": 53
        }
      ]
    },
    {
      "cell_type": "code",
      "metadata": {
        "id": "uHzu6-pfkYqJ",
        "colab_type": "code",
        "outputId": "5dd8db12-15c4-4443-cda1-9cb3ce626197",
        "colab": {
          "base_uri": "https://localhost:8080/",
          "height": 377
        }
      },
      "source": [
        "a = [[1,2,1,4],[3,8,7,6],[7,9,2,8],[5,3,5,9]]\n",
        "cv = np.cov(a,rowvar=False)\n",
        "eigval,eigvec = np.linalg.eig(cv)\n",
        "eigval,eigvec,np.delete(eigvec,[1],axis = 1)\n",
        "s = np.matmul(a,np.delete(eigvec,np.argsort(eigval)[:2],axis = 1))\n",
        "print(s,a)\n",
        "print(eigval,eigvec,np.delete(eigvec,np.argsort(eigval)[:1],axis = 1))\n",
        "print(\"*****\")\n",
        "smat = np.zeros((4, 4))\n",
        "smat[:4, :4] = np.diag(eigval)\n",
        "# a = np.matmul(u[:,:i],smat)\n",
        "w = np.matmul(a,eigvec)\n",
        "u = np.matmul(smat,w)\n",
        "print(w,u)\n",
        "np.sum(np.var(a,axis=0)),np.sum(np.var(np.matmul(a,eigvec),axis=0))\n",
        "# np.argsort(eigval)[:1],eigval\n",
        "# t = np.matrix.transpose(np.asarray(a))\n",
        "# w = np.sum(t,axis = 1)/4\n",
        "# r = t - w[:,np.newaxis]\n",
        "# a = np.asarray([])\n",
        "# a = np.outer(r[0],r[0]) + np.outer(r[1],r[1]) + np.outer(r[2],r[2])\n",
        "# a/3,cv,r\n",
        "# np.var(s)/np.var(a)"
      ],
      "execution_count": 0,
      "outputs": [
        {
          "output_type": "stream",
          "text": [
            "[[ -3.66902009   0.21153308]\n",
            " [-11.47523694  -4.15197901]\n",
            " [-13.54754959   2.30598141]\n",
            " [ -9.30744914  -0.5266946 ]] [[1, 2, 1, 4], [3, 8, 7, 6], [7, 9, 2, 8], [5, 3, 5, 9]]\n",
            "[ 1.81072070e+01 -1.07899800e-15  7.23699374e+00  6.15579923e+00] [[-0.50565134 -0.67082039  0.45638791  0.29330324]\n",
            " [-0.73625054  0.2236068  -0.07980486 -0.63369261]\n",
            " [-0.27854129 -0.2236068  -0.86451567  0.35359215]\n",
            " [-0.35308159  0.67082039  0.19481764  0.62239816]] [[-0.50565134  0.45638791  0.29330324]\n",
            " [-0.73625054 -0.07980486 -0.63369261]\n",
            " [-0.27854129 -0.86451567  0.35359215]\n",
            " [-0.35308159  0.19481764  0.62239816]]\n",
            "*****\n",
            "[[ -3.66902009   2.23606798   0.21153308   1.86910281]\n",
            " [-11.47523694   2.23606798  -4.15197901   2.01990282]\n",
            " [-13.54754959   2.23606798   2.30598141   2.03625878]\n",
            " [ -9.30744914   2.23606798  -0.5266946    6.93498257]] [[-6.64357064e+01  4.04889458e+01  3.83027334e+00  3.38442316e+01]\n",
            " [ 1.23817577e-14 -2.41271288e-15  4.47997706e-15 -2.17947110e-15]\n",
            " [-9.80435316e+01  1.61824100e+01  1.66883730e+01  1.47363920e+01]\n",
            " [-5.72947883e+01  1.37647855e+01 -3.24222623e+00  4.26903604e+01]]\n"
          ],
          "name": "stdout"
        },
        {
          "output_type": "execute_result",
          "data": {
            "text/plain": [
              "(23.625, 23.624999999999996)"
            ]
          },
          "metadata": {
            "tags": []
          },
          "execution_count": 15
        }
      ]
    },
    {
      "cell_type": "code",
      "metadata": {
        "id": "3rxo_679oe4A",
        "colab_type": "code",
        "outputId": "90586773-7f43-464d-a035-bb7f5e6c1959",
        "colab": {
          "base_uri": "https://localhost:8080/",
          "height": 85
        }
      },
      "source": [
        "# a = np.random.randn(9, 6)# + 1j*np.random.randn(9, 6)\n",
        "a = np.asarray([[1,2,3,8],[9,3,8,5],[2,3,5,2]])\n",
        "u, s, vh = np.linalg.svd(a, full_matrices=False)\n",
        "# sm = np.zeros(:3,:3)\n",
        "sm = np.diag(s)\n",
        "print(s)\n",
        "np.matmul(u,np.matmul(sm,vh))\n",
        "np.matmul(sm[:2,:2],vh[])\n",
        "\n",
        "# np.allclose(a, np.dot(u * s, vh)),\n",
        "# u,s,vh,a,u.shape, s.shape, vh.shape, a.shape , u * s, np.dot(u * s, vh)"
      ],
      "execution_count": 0,
      "outputs": [
        {
          "output_type": "stream",
          "text": [
            "[16.02806424  5.91389304  2.66964901]\n"
          ],
          "name": "stdout"
        },
        {
          "output_type": "execute_result",
          "data": {
            "text/plain": [
              "array([[-8.5323473 , -4.44955263, -9.71721916, -8.35912831],\n",
              "       [ 3.27375232, -0.19815831,  1.29929291, -4.74649848],\n",
              "       [-1.575308  ,  1.47044711,  1.37385946, -0.7718329 ]])"
            ]
          },
          "metadata": {
            "tags": []
          },
          "execution_count": 30
        }
      ]
    },
    {
      "cell_type": "code",
      "metadata": {
        "id": "TFZ1y53DL9J5",
        "colab_type": "code",
        "outputId": "a0c76c4f-df05-4d32-b2f1-0deacc030715",
        "colab": {
          "base_uri": "https://localhost:8080/",
          "height": 68
        }
      },
      "source": [
        "a.shape,u.shape,s.shape,vh.shape\n",
        "# d = np.cov(a,rowvar=False)\n",
        "# np.matmul(a,d)"
      ],
      "execution_count": 0,
      "outputs": [
        {
          "output_type": "execute_result",
          "data": {
            "text/plain": [
              "((3, 4), (3, 3), (3,), (3, 4), array([[16.02806424,  0.        ,  0.        ],\n",
              "        [ 0.        ,  5.91389304,  0.        ],\n",
              "        [ 0.        ,  0.        ,  2.66964901]]))"
            ]
          },
          "metadata": {
            "tags": []
          },
          "execution_count": 32
        }
      ]
    },
    {
      "cell_type": "code",
      "metadata": {
        "id": "NuAuyFn3pFNR",
        "colab_type": "code",
        "outputId": "e0b09b39-720c-46bc-fccc-793208a8581b",
        "colab": {
          "base_uri": "https://localhost:8080/",
          "height": 68
        }
      },
      "source": [
        "smat = np.zeros((3, 3))\n",
        "smat[:3, :3] = np.diag(s)\n",
        "smat"
      ],
      "execution_count": 0,
      "outputs": [
        {
          "output_type": "execute_result",
          "data": {
            "text/plain": [
              "array([[14.66839912,  0.        ,  0.        ],\n",
              "       [ 0.        ,  2.09994751,  0.        ],\n",
              "       [ 0.        ,  0.        ,  1.55829645]])"
            ]
          },
          "metadata": {
            "tags": []
          },
          "execution_count": 24
        }
      ]
    },
    {
      "cell_type": "code",
      "metadata": {
        "id": "S5WXeeZpT3MX",
        "colab_type": "code",
        "outputId": "d4914422-d7e8-47fd-96cb-13b6f40c0649",
        "colab": {
          "base_uri": "https://localhost:8080/",
          "height": 102
        }
      },
      "source": [
        "np.dot(u, np.dot(smat, vh)),np.dot(smat, vh)"
      ],
      "execution_count": 0,
      "outputs": [
        {
          "output_type": "execute_result",
          "data": {
            "text/plain": [
              "(array([[1., 2., 3.],\n",
              "        [3., 5., 2.],\n",
              "        [9., 8., 5.]]), array([[-9.42410481, -9.56922007, -5.89730518],\n",
              "        [ 1.30078326, -0.27982963, -1.62463467],\n",
              "        [-0.70300176,  1.16263604, -0.76312107]]))"
            ]
          },
          "metadata": {
            "tags": []
          },
          "execution_count": 22
        }
      ]
    },
    {
      "cell_type": "code",
      "metadata": {
        "id": "My3nuNxkW96j",
        "colab_type": "code",
        "outputId": "e2cee2a5-ba28-4803-a07b-14098cdfc77a",
        "colab": {
          "base_uri": "https://localhost:8080/",
          "height": 68
        }
      },
      "source": [
        "a = np.outer(u[:,1],vh[1,:])*s[1]\n",
        "b = np.outer(u[:,0],vh[0,:])*s[0]\n",
        "c = np.outer(u[:,2],vh[2,:])*s[2]\n",
        "b+a"
      ],
      "execution_count": 0,
      "outputs": [
        {
          "output_type": "execute_result",
          "data": {
            "text/plain": [
              "array([[0.84804011, 2.14184463, 3.13252744, 7.92554621],\n",
              "       [8.41764   , 3.54359502, 8.50788848, 4.71466875],\n",
              "       [3.4558023 , 1.64110366, 3.730364  , 2.71328027]])"
            ]
          },
          "metadata": {
            "tags": []
          },
          "execution_count": 60
        }
      ]
    },
    {
      "cell_type": "code",
      "metadata": {
        "id": "cx6WAQJ_cAG7",
        "colab_type": "code",
        "outputId": "cbbb113e-2bfb-429b-e2c3-ef7c88cca624",
        "colab": {
          "base_uri": "https://localhost:8080/",
          "height": 68
        }
      },
      "source": [
        "a = [[1,2,1],[3,7,6],[9,2,8],[5,5,9]]\n",
        "cv = np.cov(a,rowvar=False)\n",
        "cv"
      ],
      "execution_count": 0,
      "outputs": [
        {
          "output_type": "execute_result",
          "data": {
            "text/plain": [
              "array([[11.66666667, -2.        ,  9.33333333],\n",
              "       [-2.        ,  6.        ,  3.        ],\n",
              "       [ 9.33333333,  3.        , 12.66666667]])"
            ]
          },
          "metadata": {
            "tags": []
          },
          "execution_count": 3
        }
      ]
    },
    {
      "cell_type": "code",
      "metadata": {
        "id": "jvQZhOcVc3fO",
        "colab_type": "code",
        "outputId": "a143d300-d771-45bf-f7b7-8d57ee4e89ae",
        "colab": {
          "base_uri": "https://localhost:8080/",
          "height": 68
        }
      },
      "source": [
        "cv = np.cov(np.transpose(a))#,rowvar=False)\n",
        "cv"
      ],
      "execution_count": 0,
      "outputs": [
        {
          "output_type": "execute_result",
          "data": {
            "text/plain": [
              "array([[11.66666667, -2.        ,  9.33333333],\n",
              "       [-2.        ,  6.        ,  3.        ],\n",
              "       [ 9.33333333,  3.        , 12.66666667]])"
            ]
          },
          "metadata": {
            "tags": []
          },
          "execution_count": 6
        }
      ]
    }
  ]
}